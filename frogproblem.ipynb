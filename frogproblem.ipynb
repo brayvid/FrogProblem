{
  "nbformat": 4,
  "nbformat_minor": 0,
  "metadata": {
    "colab": {
      "name": "frogproblem.ipynb",
      "provenance": [],
      "collapsed_sections": [],
      "include_colab_link": true
    },
    "kernelspec": {
      "name": "python3",
      "display_name": "Python 3"
    }
  },
  "cells": [
    {
      "cell_type": "markdown",
      "metadata": {
        "id": "view-in-github",
        "colab_type": "text"
      },
      "source": [
        "<a href=\"https://colab.research.google.com/github/brayvid/FrogProblem/blob/master/frogproblem.ipynb\" target=\"_parent\"><img src=\"https://colab.research.google.com/assets/colab-badge.svg\" alt=\"Open In Colab\"/></a>"
      ]
    },
    {
      "cell_type": "markdown",
      "metadata": {
        "id": "9z0A9vjd5svl",
        "colab_type": "text"
      },
      "source": [
        "#The Frog Problem\n",
        "###Presented by Timandra Harkness and Matt Parker in [Can you solve The Frog Problem?](https://www.youtube.com/watch?v=ZLTyX4zL2Fc)\n",
        "###Solution by Blake Rayvid\n"
      ]
    },
    {
      "cell_type": "code",
      "metadata": {
        "id": "6tiTBLX7yzii",
        "colab_type": "code",
        "colab": {}
      },
      "source": [
        "from scipy.special import comb # nCr function\n",
        "from itertools import combinations # lists all combinations\n",
        "from matplotlib import pyplot\n",
        "import numpy as np"
      ],
      "execution_count": 0,
      "outputs": []
    },
    {
      "cell_type": "code",
      "metadata": {
        "id": "hV_A5YuuyGQW",
        "colab_type": "code",
        "colab": {}
      },
      "source": [
        "# Each row represents a possible route across the river\n",
        "def routeMatrix(n, k):\n",
        "  rows = comb(n - 1, k - 1, 1) # third arg means return exact integer result\n",
        "  cols = k + 1\n",
        "  M = [[0 for x in range(cols)] for y in range(rows)] # create blank M\n",
        "  \n",
        "  C = list(combinations(range(1, n), k - 1))\n",
        "  \n",
        "  for l in range(len(C[0])):\n",
        "    for r in range(rows):\n",
        "      M[r][l + 1] = C[r][l]\n",
        "      \n",
        "  for r in range(rows):\n",
        "    M[r][cols - 1] = n\n",
        "  \n",
        "  return M"
      ],
      "execution_count": 0,
      "outputs": []
    },
    {
      "cell_type": "code",
      "metadata": {
        "id": "8zE55KyzJBPk",
        "colab_type": "code",
        "colab": {}
      },
      "source": [
        "# Multiply probabilities across each row then sum all products\n",
        "def pathLengthProbability(n, k, m):\n",
        "  iLower = 1\n",
        "  iUpper = comb(n - 1, k - 1, 1)\n",
        "  jLower = 1\n",
        "  jUpper = k\n",
        "  \n",
        "  sumTot = 0\n",
        "  for i in range(iLower - 1, iUpper):\n",
        "    prod = 1\n",
        "    for j in range(jLower - 1, jUpper):\n",
        "      factor = 1 / (n - m[i][j])\n",
        "      prod = prod * factor\n",
        "    sumTot += prod\n",
        "  \n",
        "  return sumTot"
      ],
      "execution_count": 0,
      "outputs": []
    },
    {
      "cell_type": "code",
      "metadata": {
        "id": "mFjtW8PbDUjc",
        "colab_type": "code",
        "colab": {}
      },
      "source": [
        "# Wrapper function for ease of use\n",
        "def getProb(n, k):\n",
        "  if k <= n and k >= 1:\n",
        "    return pathLengthProbability(n, k, routeMatrix(n, k))\n",
        "  else:\n",
        "    print(\"Bad input\")\n",
        "    return 0"
      ],
      "execution_count": 0,
      "outputs": []
    },
    {
      "cell_type": "code",
      "metadata": {
        "id": "ZWOfOHKAEOEL",
        "colab_type": "code",
        "outputId": "60d8a497-1653-4fd2-ecf9-2a73270dcdf1",
        "colab": {
          "base_uri": "https://localhost:8080/",
          "height": 272
        }
      },
      "source": [
        "# Check that total probability is 1 for several n\n",
        "for n in range(1, 16):\n",
        "  s = 0\n",
        "  for k in range(1, n + 1):\n",
        "    s += getProb(n, k)\n",
        "  print(s)\n",
        "  "
      ],
      "execution_count": 5,
      "outputs": [
        {
          "output_type": "stream",
          "text": [
            "1.0\n",
            "1.0\n",
            "0.9999999999999999\n",
            "0.9999999999999999\n",
            "1.0\n",
            "1.0\n",
            "1.0\n",
            "1.0\n",
            "1.0\n",
            "1.0\n",
            "1.0\n",
            "0.9999999999999998\n",
            "0.9999999999999997\n",
            "0.9999999999999994\n",
            "0.9999999999999997\n"
          ],
          "name": "stdout"
        }
      ]
    },
    {
      "cell_type": "code",
      "metadata": {
        "id": "Ui7dbc_b7dZg",
        "colab_type": "code",
        "colab": {}
      },
      "source": [
        "# Calculate expected number of jumps\n",
        "def expectedValue(n):\n",
        "  sumTot = 0\n",
        "  for k in range(1, n + 1):\n",
        "    sumTot += (k * getProb(n, k))\n",
        "  return sumTot"
      ],
      "execution_count": 0,
      "outputs": []
    },
    {
      "cell_type": "code",
      "metadata": {
        "id": "3vBtGtl97-ZV",
        "colab_type": "code",
        "outputId": "2be68228-e18e-46c5-bb84-fa2b0d330b06",
        "colab": {
          "base_uri": "https://localhost:8080/",
          "height": 34
        }
      },
      "source": [
        "expectedValue(10)"
      ],
      "execution_count": 7,
      "outputs": [
        {
          "output_type": "execute_result",
          "data": {
            "text/plain": [
              "2.9289682539682538"
            ]
          },
          "metadata": {
            "tags": []
          },
          "execution_count": 7
        }
      ]
    },
    {
      "cell_type": "code",
      "metadata": {
        "id": "jFts30rT8OQT",
        "colab_type": "code",
        "outputId": "80e712f8-9bc1-4c53-a311-48e0c697f29b",
        "colab": {
          "base_uri": "https://localhost:8080/",
          "height": 295
        }
      },
      "source": [
        "# Plot expectation for several values of n\n",
        "ns = range(1, 21)\n",
        "exps = []\n",
        "for n in ns:\n",
        "  exps.append(expectedValue(n))\n",
        "pyplot.plot(ns,exps,'ko')\n",
        "pyplot.xlabel('Number of lillypads')\n",
        "pyplot.ylabel('Expected number of jumps')\n",
        "pyplot.title('Frog Problem')\n",
        "pyplot.xticks(np.arange(min(ns), max(ns) + 1, 1))\n",
        "pyplot.yticks(np.arange(min(exps), max(exps) + 0.25, 0.25))\n",
        "pyplot.show()"
      ],
      "execution_count": 8,
      "outputs": [
        {
          "output_type": "display_data",
          "data": {
            "image/png": "[encoded data removed]",
            "text/plain": [
              "<Figure size 432x288 with 1 Axes>"
            ]
          },
          "metadata": {
            "tags": []
          }
        }
      ]
    }
  ]
}