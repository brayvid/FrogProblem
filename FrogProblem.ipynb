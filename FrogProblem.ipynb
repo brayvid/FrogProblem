{
  "nbformat": 4,
  "nbformat_minor": 0,
  "metadata": {
    "colab": {
      "name": "FrogProblem.ipynb",
      "provenance": [],
      "collapsed_sections": []
    },
    "kernelspec": {
      "name": "python3",
      "display_name": "Python 3"
    }
  },
  "cells": [
    {
      "cell_type": "markdown",
      "metadata": {
        "id": "9z0A9vjd5svl",
        "colab_type": "text"
      },
      "source": [
        "##The Frog Problem<br>\n",
        "###Blake Rayvid\n",
        "####Presented by Timandra Harkness and Matt Parker in [*Can you solve The Frog Problem?*](https://www.youtube.com/watch?v=ZLTyX4zL2Fc)"
      ]
    },
    {
      "cell_type": "markdown",
      "metadata": {
        "id": "zlBWZsZhA4GK",
        "colab_type": "text"
      },
      "source": [
        "###Statement"
      ]
    },
    {
      "cell_type": "markdown",
      "metadata": {
        "id": "ywPtUtGFs5JQ",
        "colab_type": "text"
      },
      "source": [
        "Imagine some number of lillypads spanning a river in a line, and a frog at one bank. The frog wants to cross the river. To move forward, it selects one of the lillypads with uniform probability (or the far bank, which we include as an option), hops there, selects a new position closer to its destination, and repeats this process until it eventually reaches the far side.\n",
        "\n",
        "<strong>*For a given number of lillypads $p$, what is the expected number of jumps for the frog to make it across the river?*</strong>"
      ]
    },
    {
      "cell_type": "markdown",
      "metadata": {
        "id": "BINtg6nOABNr",
        "colab_type": "text"
      },
      "source": [
        "###Solution"
      ]
    },
    {
      "cell_type": "markdown",
      "metadata": {
        "id": "9RzECYnVmBNW",
        "colab_type": "text"
      },
      "source": [
        "The code in this notebook uses functions from the [``scipy``](https://docs.scipy.org/doc/scipy/reference/), [``itertools``](https://docs.python.org/2/library/itertools.html#itertools.combinations), [``numpy``](https://docs.scipy.org/doc/numpy/) and [``matplotlib``](https://matplotlib.org/3.1.1/api/_as_gen/matplotlib.pyplot.html#module-matplotlib.pyplot) modules."
      ]
    },
    {
      "cell_type": "code",
      "metadata": {
        "id": "6tiTBLX7yzii",
        "colab_type": "code",
        "colab": {}
      },
      "source": [
        "from scipy.special import comb # \"a choose b,\" aka binomial coefficient\n",
        "from itertools import combinations # lists the actual combinations\n",
        "import numpy as np # matrix operations\n",
        "from matplotlib import pyplot as pl # plots points"
      ],
      "execution_count": 0,
      "outputs": []
    },
    {
      "cell_type": "markdown",
      "metadata": {
        "id": "7nfLakxO0pcT",
        "colab_type": "text"
      },
      "source": [
        "####A few definitions"
      ]
    },
    {
      "cell_type": "markdown",
      "metadata": {
        "id": "QkkNt3RUeq6u",
        "colab_type": "text"
      },
      "source": [
        "* Let $p$ be the number of lillypads present. Note that the maximum number of jumps is $p+1$.\n",
        "* Let $k$ be the number of jumps the frog uses to cross the river, $ 1 \\leq k \\leq p+1$.\n",
        "* Let $r={p \\choose k-1}$ count the number of ways the frog can cross the river in exactly $k$ jumps."
      ]
    },
    {
      "cell_type": "markdown",
      "metadata": {
        "id": "javRW5_Hd4PV",
        "colab_type": "text"
      },
      "source": [
        "####Example of a route"
      ]
    },
    {
      "cell_type": "markdown",
      "metadata": {
        "id": "qsrh3j4Gd8BY",
        "colab_type": "text"
      },
      "source": [
        "The picture below depicts one of the $10$ different ways the frog can cross the river in $3$ steps with $5$ lillypads present."
      ]
    },
    {
      "cell_type": "markdown",
      "metadata": {
        "id": "aBDOVSpYdIYU",
        "colab_type": "text"
      },
      "source": [
        "<center><img src=\"https://raw.githubusercontent.com/brayvid/FrogProblem/master/FrogExample.png\" width=350px></center>"
      ]
    },
    {
      "cell_type": "markdown",
      "metadata": {
        "id": "AGE1cmMcedrX",
        "colab_type": "text"
      },
      "source": [
        "Landing on position $2$ from position $0$ has probability $\\frac{1}{6}$, since six positions are initially available to the frog and each is equally likely. In the same way, getting to position $3$ from position $2$ has probability $\\frac{1}{4}$, and getting to the far shore from position $3$ has probability $\\frac{1}{3}$. \n",
        "\n",
        "Thus, the overall probability of taking that particular route as opposed to any other is $\\frac{1}{6} \\cdot \\frac{1}{4}\\cdot \\frac{1}{3} = \\frac{1}{72} \\approx 0.014$. We can compute the probability of any route in this way. We expect (and can show) that the probabilities of all routes will add up to $1$."
      ]
    },
    {
      "cell_type": "markdown",
      "metadata": {
        "id": "dsxNq_3TEYHM",
        "colab_type": "text"
      },
      "source": [
        "####List all $r$ possible routes for a given $(p,k)$"
      ]
    },
    {
      "cell_type": "markdown",
      "metadata": {
        "id": "CZUrLW58-bqr",
        "colab_type": "text"
      },
      "source": [
        "The function ``listRoutes(p,k)`` returns all routes for a given $p$ and $k$ as a ``numpy.array`` of size $(r,k+1)$. Each row represents a unique sequence of positions starting at $0$ and ending at $p+1$."
      ]
    },
    {
      "cell_type": "code",
      "metadata": {
        "id": "hV_A5YuuyGQW",
        "colab_type": "code",
        "colab": {}
      },
      "source": [
        "def listRoutes(p, k):\n",
        "  rows = comb(p, k - 1, 1)\n",
        "  cols = k + 1\n",
        "  \n",
        "  M = [[0 for x in range(cols)] for y in range(rows)]\n",
        "  \n",
        "  C = list(combinations(range(1, p + 1), k - 1))\n",
        "  \n",
        "  for l in range(k - 1):\n",
        "    for r in range(rows):\n",
        "      M[r][l + 1] = C[r][l]\n",
        "  \n",
        "  for r in range(rows):\n",
        "      M[r][cols - 1] = p + 1\n",
        "      \n",
        "  return np.array(M)"
      ],
      "execution_count": 0,
      "outputs": []
    },
    {
      "cell_type": "markdown",
      "metadata": {
        "id": "VsdPzw5-wSUA",
        "colab_type": "text"
      },
      "source": [
        "Following the earlier example, here is the matrix for $p=5$ and $k=3$:"
      ]
    },
    {
      "cell_type": "code",
      "metadata": {
        "id": "VLJDpOjkHDlW",
        "colab_type": "code",
        "outputId": "ec1a88db-76fe-4edb-9dcb-0dedc8636792",
        "colab": {
          "base_uri": "https://localhost:8080/",
          "height": 187
        }
      },
      "source": [
        "listRoutes(5,3)"
      ],
      "execution_count": 0,
      "outputs": [
        {
          "output_type": "execute_result",
          "data": {
            "text/plain": [
              "array([[0, 1, 2, 6],\n",
              "       [0, 1, 3, 6],\n",
              "       [0, 1, 4, 6],\n",
              "       [0, 1, 5, 6],\n",
              "       [0, 2, 3, 6],\n",
              "       [0, 2, 4, 6],\n",
              "       [0, 2, 5, 6],\n",
              "       [0, 3, 4, 6],\n",
              "       [0, 3, 5, 6],\n",
              "       [0, 4, 5, 6]])"
            ]
          },
          "metadata": {
            "tags": []
          },
          "execution_count": 3
        }
      ]
    },
    {
      "cell_type": "markdown",
      "metadata": {
        "id": "vd-Su0ZdhcHI",
        "colab_type": "text"
      },
      "source": [
        "There are indeed ${5 \\choose 2} = 10$ unique ways for the frog to cross the river."
      ]
    },
    {
      "cell_type": "markdown",
      "metadata": {
        "id": "p-mDmUXIESZb",
        "colab_type": "text"
      },
      "source": [
        "####Express the probability of taking a particular route for a given $(p,k)$"
      ]
    },
    {
      "cell_type": "markdown",
      "metadata": {
        "id": "UWm2xdN5_iRW",
        "colab_type": "text"
      },
      "source": [
        "Given that at each step along the route all remaining positions have an equal chance of being selected next: if the frog is at position $a$, the probability that the frog will then select the $b^{th}$ position (where $b>a$) equals $(p-a+1)^{-1}$. For example, if there are 3 lillypads and the frog is currently at position $2$, the remaining positions ($3$ and $4$) each have a $\\frac{1}{3-2+1}=\\frac{1}{2}$ chance of being selected.\n",
        "<br><br>\n",
        "To find the probability $P(x)$ that a certain route $x\\in\\{1,2,...,r\\}$ is taken, multiply the probabilities of each successive jump in the sequence:\n",
        "<br><br>\n",
        "$$P(x)=\\prod_{j=1}^{k} (p-m_{x,j}+1)^{-1}.$$\n",
        "<br><br>\n",
        "where $m_{x,j}$ is the element of $M$ in the $x^{th}$ row and $j^{th}$ column, and $M$ is the particular route matrix for the pair $(p,k)$."
      ]
    },
    {
      "cell_type": "markdown",
      "metadata": {
        "id": "A2_0zeea3iZm",
        "colab_type": "text"
      },
      "source": [
        "####Express the probability of taking any route of length $k$ for a given $p$"
      ]
    },
    {
      "cell_type": "markdown",
      "metadata": {
        "id": "rV26E1po3sLj",
        "colab_type": "text"
      },
      "source": [
        "Since each route is unique and the list is exhaustive, the probability $P^{\\prime}(k)$ that the frog will jump exactly $k$ times to reach the far bank is the sum of the probabilities of each route of length $k$ occuring (i.e. sum the above result over all rows):\n",
        "<br><br>\n",
        "$$P^{\\prime}(k)=\\sum_{i=1}^{r} \\prod_{j=1}^{k} (p-m_{i,j}+1)^{-1},$$"
      ]
    },
    {
      "cell_type": "markdown",
      "metadata": {
        "id": "9kvqsN_7LyOG",
        "colab_type": "text"
      },
      "source": [
        "The function ``pathLengthProbability(p,k,m)`` implements the above formula, returning $P^{\\prime}(k)$ for a given $(p,k)$ and a corresponding matrix $M$:"
      ]
    },
    {
      "cell_type": "code",
      "metadata": {
        "id": "8zE55KyzJBPk",
        "colab_type": "code",
        "colab": {}
      },
      "source": [
        "def pathLengthProbability(p, k, m):\n",
        "  M = m[:,:-1]\n",
        "  N = np.full((M.shape[0], k), p + 1)\n",
        "  minusNM = np.subtract(N, M)\n",
        "  overNsubM = np.divide(np.ones((M.shape[0], k)), minusNM)\n",
        "  s = np.sum(np.prod(overNsubM, axis = 1))\n",
        "  return s"
      ],
      "execution_count": 0,
      "outputs": []
    },
    {
      "cell_type": "markdown",
      "metadata": {
        "id": "iZSKzFEsDUZn",
        "colab_type": "text"
      },
      "source": [
        "The function ``lengthProb(p,k)`` simply wraps ``pathLengthProbability(p,k,m)`` and ``listRoutes(n,k)`` together for ease of use, returning $P^{\\prime}(k)$ for a particular pair $(p,k)$:"
      ]
    },
    {
      "cell_type": "code",
      "metadata": {
        "id": "mFjtW8PbDUjc",
        "colab_type": "code",
        "colab": {}
      },
      "source": [
        "def lengthProb(p, k):\n",
        "  if k <= (p + 1) and k >= 1:\n",
        "    return pathLengthProbability(p, k, listRoutes(p, k))\n",
        "  else:\n",
        "    print(\"Bad input\")\n",
        "    return 0"
      ],
      "execution_count": 0,
      "outputs": []
    },
    {
      "cell_type": "markdown",
      "metadata": {
        "id": "fW_pZYfoGQ_E",
        "colab_type": "text"
      },
      "source": [
        "####Express the expected number of steps"
      ]
    },
    {
      "cell_type": "markdown",
      "metadata": {
        "id": "RdS5J-7k_qG0",
        "colab_type": "text"
      },
      "source": [
        "The expectation of a discrete random variable $X$ is defined as the sum over the sample space $\\Omega$:\n",
        "<br><br>\n",
        "$$E(X)=\\sum_{\\omega\\in\\Omega}x_{\\omega}P(x_{\\omega}).$$\n",
        "<br>\n",
        "Therefore the solution to the problem, the number of steps in which we expect the frog to cross the river for a given $p$, is:\n",
        "<br><br>\n",
        "$$E(steps)=\\sum_{k=1}^{p+1}k P^{\\prime}(k)=\\sum_{k=1}^{p+1}k\\sum_{i=1}^{r} \\prod_{j=1}^{k} (p-m_{i,j}+1)^{-1}.$$\n",
        "<br><br>"
      ]
    },
    {
      "cell_type": "markdown",
      "metadata": {
        "id": "3Z2DhTiXKh0x",
        "colab_type": "text"
      },
      "source": [
        "*Note: $M$ will change for each term in the outer sum. A new one must be computed for each value of $k$.*"
      ]
    },
    {
      "cell_type": "markdown",
      "metadata": {
        "id": "fwBdKHbCGc_C",
        "colab_type": "text"
      },
      "source": [
        "The function ``expectedSteps(p)`` returns the above quantity given some $p$:"
      ]
    },
    {
      "cell_type": "code",
      "metadata": {
        "id": "Ui7dbc_b7dZg",
        "colab_type": "code",
        "colab": {}
      },
      "source": [
        "def expectedSteps(p):\n",
        "  n = p + 1\n",
        "  s = 0\n",
        "  for k in range(1, n + 1):\n",
        "    s += (k * lengthProb(p, k))\n",
        "  return s"
      ],
      "execution_count": 0,
      "outputs": []
    },
    {
      "cell_type": "markdown",
      "metadata": {
        "id": "MS2ZvNWhAVpr",
        "colab_type": "text"
      },
      "source": [
        "###Examples"
      ]
    },
    {
      "cell_type": "markdown",
      "metadata": {
        "id": "E74hpXAUDoH6",
        "colab_type": "text"
      },
      "source": [
        "####Find the probability that $k=1$ given $p=4$"
      ]
    },
    {
      "cell_type": "code",
      "metadata": {
        "id": "ephSCGUgDyIg",
        "colab_type": "code",
        "outputId": "9f4b4584-5959-4175-be7b-590b227edb78",
        "colab": {
          "base_uri": "https://localhost:8080/",
          "height": 34
        }
      },
      "source": [
        "lengthProb(4,1)"
      ],
      "execution_count": 0,
      "outputs": [
        {
          "output_type": "execute_result",
          "data": {
            "text/plain": [
              "0.2"
            ]
          },
          "metadata": {
            "tags": []
          },
          "execution_count": 7
        }
      ]
    },
    {
      "cell_type": "markdown",
      "metadata": {
        "id": "hzMdXkcPHSot",
        "colab_type": "text"
      },
      "source": [
        "####Show that the total probability of all routes is $1$ for $p=5$"
      ]
    },
    {
      "cell_type": "code",
      "metadata": {
        "id": "cYiGRfuRHZKs",
        "colab_type": "code",
        "outputId": "1f565256-3010-45e7-9876-878a7b3e75f8",
        "colab": {
          "base_uri": "https://localhost:8080/",
          "height": 34
        }
      },
      "source": [
        "p = 5\n",
        "n = p + 1 # max possible jumps\n",
        "s = 0\n",
        "for k in range(1, n + 1):\n",
        "  s += lengthProb(p, k)\n",
        "print(s)"
      ],
      "execution_count": 0,
      "outputs": [
        {
          "output_type": "stream",
          "text": [
            "1.0\n"
          ],
          "name": "stdout"
        }
      ]
    },
    {
      "cell_type": "markdown",
      "metadata": {
        "id": "E4OsW0KxAdUz",
        "colab_type": "text"
      },
      "source": [
        "####Find the expected number of steps for $p=1$"
      ]
    },
    {
      "cell_type": "code",
      "metadata": {
        "id": "3vBtGtl97-ZV",
        "colab_type": "code",
        "outputId": "e741b680-69f6-4258-e732-4cb93a3d45f4",
        "colab": {
          "base_uri": "https://localhost:8080/",
          "height": 34
        }
      },
      "source": [
        "expectedSteps(1)"
      ],
      "execution_count": 0,
      "outputs": [
        {
          "output_type": "execute_result",
          "data": {
            "text/plain": [
              "1.5"
            ]
          },
          "metadata": {
            "tags": []
          },
          "execution_count": 9
        }
      ]
    },
    {
      "cell_type": "markdown",
      "metadata": {
        "id": "qR5Jb8d4AosB",
        "colab_type": "text"
      },
      "source": [
        "####Plot the expected steps for several $p$"
      ]
    },
    {
      "cell_type": "code",
      "metadata": {
        "id": "jFts30rT8OQT",
        "colab_type": "code",
        "outputId": "0f024755-77c6-4cb1-d032-a355d21c33e5",
        "colab": {
          "base_uri": "https://localhost:8080/",
          "height": 295
        }
      },
      "source": [
        "# Values of p to check\n",
        "lowP = 0\n",
        "highP = 20\n",
        "\n",
        "# Plot points\n",
        "x = range(lowP, highP + 1)\n",
        "y = []\n",
        "for p in x:\n",
        "  y.append(expectedSteps(p))\n",
        "pl.plot(x,y,'ko')\n",
        "pl.xlabel('Number of lillypads')\n",
        "pl.ylabel('Expected number of jumps')\n",
        "pl.title('Expected jumps vs. number of lillypads')\n",
        "pl.xticks(np.arange(min(x), max(x) + 1, 1))\n",
        "pl.yticks(np.arange(min(y), max(y) + 0.25, 0.25))\n",
        "pl.show()"
      ],
      "execution_count": 0,
      "outputs": [
        {
          "output_type": "display_data",
          "data": {
            "image/png": "[encoded data removed]",
            "text/plain": [
              "<Figure size 432x288 with 1 Axes>"
            ]
          },
          "metadata": {
            "tags": []
          }
        }
      ]
    }
  ]
}